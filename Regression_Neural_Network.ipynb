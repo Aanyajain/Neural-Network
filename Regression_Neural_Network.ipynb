{
  "nbformat": 4,
  "nbformat_minor": 0,
  "metadata": {
    "colab": {
      "name": "Regression Neural Network.ipynb",
      "provenance": [],
      "authorship_tag": "ABX9TyMZnHfI1Uah88vlITiaxQXz",
      "include_colab_link": true
    },
    "kernelspec": {
      "name": "python3",
      "display_name": "Python 3"
    }
  },
  "cells": [
    {
      "cell_type": "markdown",
      "metadata": {
        "id": "view-in-github",
        "colab_type": "text"
      },
      "source": [
        "<a href=\"https://colab.research.google.com/github/Aanyajain/Neural-Network/blob/master/Regression_Neural_Network.ipynb\" target=\"_parent\"><img src=\"https://colab.research.google.com/assets/colab-badge.svg\" alt=\"Open In Colab\"/></a>"
      ]
    },
    {
      "cell_type": "code",
      "metadata": {
        "id": "talYAEJopyr1",
        "colab_type": "code",
        "colab": {}
      },
      "source": [
        "import numpy as np\n",
        "import pandas as pd\n",
        "%matplotlib inline\n",
        "import matplotlib as mp\n",
        "from matplotlib import pyplot as plt"
      ],
      "execution_count": null,
      "outputs": []
    },
    {
      "cell_type": "code",
      "metadata": {
        "id": "ZQfgaAkmqE_8",
        "colab_type": "code",
        "colab": {}
      },
      "source": [
        "import tensorflow as tf\n",
        "from tensorflow import keras"
      ],
      "execution_count": null,
      "outputs": []
    },
    {
      "cell_type": "code",
      "metadata": {
        "id": "g0z_83fsqGoO",
        "colab_type": "code",
        "colab": {
          "base_uri": "https://localhost:8080/",
          "height": 34
        },
        "outputId": "2548b433-bbe1-4460-83dc-df6c90fea2d5"
      },
      "source": [
        "from sklearn.datasets import fetch_california_housing\n",
        "housing=fetch_california_housing()"
      ],
      "execution_count": null,
      "outputs": [
        {
          "output_type": "stream",
          "text": [
            "Downloading Cal. housing from https://ndownloader.figshare.com/files/5976036 to /root/scikit_learn_data\n"
          ],
          "name": "stderr"
        }
      ]
    },
    {
      "cell_type": "code",
      "metadata": {
        "id": "2esUuy5oqQC-",
        "colab_type": "code",
        "colab": {
          "base_uri": "https://localhost:8080/",
          "height": 34
        },
        "outputId": "35fdf914-6f1c-47f6-8984-2dffca8fab87"
      },
      "source": [
        "print(housing.feature_names)"
      ],
      "execution_count": null,
      "outputs": [
        {
          "output_type": "stream",
          "text": [
            "['MedInc', 'HouseAge', 'AveRooms', 'AveBedrms', 'Population', 'AveOccup', 'Latitude', 'Longitude']\n"
          ],
          "name": "stdout"
        }
      ]
    },
    {
      "cell_type": "code",
      "metadata": {
        "id": "0vgRoyHiqTOD",
        "colab_type": "code",
        "colab": {}
      },
      "source": [
        "from sklearn.model_selection import train_test_split\n",
        "x_train_full,x_test,y_train_full,y_test=train_test_split(housing.data,housing.target,random_state=42)\n",
        "x_train,x_valid,y_train,y_valid=train_test_split(x_train_full,y_train_full,random_state=42)"
      ],
      "execution_count": null,
      "outputs": []
    },
    {
      "cell_type": "code",
      "metadata": {
        "id": "KU-HdudxPDLJ",
        "colab_type": "code",
        "colab": {
          "base_uri": "https://localhost:8080/",
          "height": 238
        },
        "outputId": "83975655-615a-4ce3-e0b0-9de9204bdc8a"
      },
      "source": [
        "x_train"
      ],
      "execution_count": null,
      "outputs": [
        {
          "output_type": "execute_result",
          "data": {
            "text/plain": [
              "array([[   3.5214    ,   15.        ,    3.04994451, ...,    1.60599334,\n",
              "          37.63      , -122.43      ],\n",
              "       [   5.3275    ,    5.        ,    6.49005964, ...,    3.44333996,\n",
              "          33.69      , -117.39      ],\n",
              "       [   3.1       ,   29.        ,    7.54237288, ...,    2.25084746,\n",
              "          38.44      , -122.98      ],\n",
              "       ...,\n",
              "       [   1.5561    ,   35.        ,    4.13993174, ...,    3.27645051,\n",
              "          34.11      , -117.29      ],\n",
              "       [   2.1055    ,   52.        ,    5.17849462, ...,    2.92688172,\n",
              "          36.76      , -119.79      ],\n",
              "       [   5.6022    ,   31.        ,    6.21971253, ...,    2.53798768,\n",
              "          38.04      , -122.2       ]])"
            ]
          },
          "metadata": {
            "tags": []
          },
          "execution_count": 6
        }
      ]
    },
    {
      "cell_type": "code",
      "metadata": {
        "id": "y3aKmBvQPv8d",
        "colab_type": "code",
        "colab": {
          "base_uri": "https://localhost:8080/",
          "height": 34
        },
        "outputId": "9f195964-63af-4ea3-de1a-9636d9ca7e66"
      },
      "source": [
        "x_train.shape\n"
      ],
      "execution_count": null,
      "outputs": [
        {
          "output_type": "execute_result",
          "data": {
            "text/plain": [
              "(11610, 8)"
            ]
          },
          "metadata": {
            "tags": []
          },
          "execution_count": 7
        }
      ]
    },
    {
      "cell_type": "code",
      "metadata": {
        "id": "fPbK0ym5PzYv",
        "colab_type": "code",
        "colab": {
          "base_uri": "https://localhost:8080/",
          "height": 34
        },
        "outputId": "7f72d418-b664-4dfc-d163-fdd49665ba3c"
      },
      "source": [
        "x_test.shape"
      ],
      "execution_count": null,
      "outputs": [
        {
          "output_type": "execute_result",
          "data": {
            "text/plain": [
              "(5160, 8)"
            ]
          },
          "metadata": {
            "tags": []
          },
          "execution_count": 8
        }
      ]
    },
    {
      "cell_type": "code",
      "metadata": {
        "id": "mBgzHnOvP2Ng",
        "colab_type": "code",
        "colab": {
          "base_uri": "https://localhost:8080/",
          "height": 34
        },
        "outputId": "4cd26a7e-578f-4607-9417-84abb5656c8c"
      },
      "source": [
        "x_train_full.shape"
      ],
      "execution_count": null,
      "outputs": [
        {
          "output_type": "execute_result",
          "data": {
            "text/plain": [
              "(15480, 8)"
            ]
          },
          "metadata": {
            "tags": []
          },
          "execution_count": 9
        }
      ]
    },
    {
      "cell_type": "code",
      "metadata": {
        "id": "JZDm6CgcP6Of",
        "colab_type": "code",
        "colab": {
          "base_uri": "https://localhost:8080/",
          "height": 34
        },
        "outputId": "980db564-61dd-487a-f3bb-091ebc91a447"
      },
      "source": [
        "x_valid.shape"
      ],
      "execution_count": null,
      "outputs": [
        {
          "output_type": "execute_result",
          "data": {
            "text/plain": [
              "(3870, 8)"
            ]
          },
          "metadata": {
            "tags": []
          },
          "execution_count": 10
        }
      ]
    },
    {
      "cell_type": "code",
      "metadata": {
        "id": "dFc9vKuyQANJ",
        "colab_type": "code",
        "colab": {
          "base_uri": "https://localhost:8080/",
          "height": 34
        },
        "outputId": "a659209e-1ab8-4963-974f-ecb85c1e0e22"
      },
      "source": [
        "y_train_full.shape"
      ],
      "execution_count": null,
      "outputs": [
        {
          "output_type": "execute_result",
          "data": {
            "text/plain": [
              "(15480,)"
            ]
          },
          "metadata": {
            "tags": []
          },
          "execution_count": 11
        }
      ]
    },
    {
      "cell_type": "code",
      "metadata": {
        "id": "dzVaJBRmQKeJ",
        "colab_type": "code",
        "colab": {
          "base_uri": "https://localhost:8080/",
          "height": 34
        },
        "outputId": "150ac46a-9240-414d-98fb-24f634793a3e"
      },
      "source": [
        "y_test.shape"
      ],
      "execution_count": null,
      "outputs": [
        {
          "output_type": "execute_result",
          "data": {
            "text/plain": [
              "(5160,)"
            ]
          },
          "metadata": {
            "tags": []
          },
          "execution_count": 12
        }
      ]
    },
    {
      "cell_type": "code",
      "metadata": {
        "id": "l0diTnTdQNXA",
        "colab_type": "code",
        "colab": {
          "base_uri": "https://localhost:8080/",
          "height": 34
        },
        "outputId": "dc71167f-bb1b-4e25-a8e0-c3a734f7774b"
      },
      "source": [
        "y_valid.shape"
      ],
      "execution_count": null,
      "outputs": [
        {
          "output_type": "execute_result",
          "data": {
            "text/plain": [
              "(3870,)"
            ]
          },
          "metadata": {
            "tags": []
          },
          "execution_count": 13
        }
      ]
    },
    {
      "cell_type": "code",
      "metadata": {
        "id": "9yCVNJRRQPOP",
        "colab_type": "code",
        "colab": {}
      },
      "source": [
        "from sklearn.preprocessing import StandardScaler\n",
        "scaler=StandardScaler()\n",
        "x_train=scaler.fit_transform(x_train)\n",
        "x_test=scaler.transform(x_test)\n",
        "x_valid=scaler.transform(x_valid)"
      ],
      "execution_count": null,
      "outputs": []
    },
    {
      "cell_type": "code",
      "metadata": {
        "id": "v0Ts4ZKsQ9UM",
        "colab_type": "code",
        "colab": {
          "base_uri": "https://localhost:8080/",
          "height": 238
        },
        "outputId": "ab90a946-409c-4f79-a420-a0a68cfed422"
      },
      "source": [
        "x_train"
      ],
      "execution_count": null,
      "outputs": [
        {
          "output_type": "execute_result",
          "data": {
            "text/plain": [
              "array([[-0.19397883, -1.07781319, -0.94338545, ..., -0.57291624,\n",
              "         0.92926047, -1.42215523],\n",
              "       [ 0.75198318, -1.868895  ,  0.40547793, ...,  0.20516532,\n",
              "        -0.91654738,  1.09666969],\n",
              "       [-0.41469108,  0.02970134,  0.81808819, ..., -0.29983271,\n",
              "         1.30872858, -1.697027  ],\n",
              "       ...,\n",
              "       [-1.22332336,  0.50435042, -0.51600328, ...,  0.1344908 ,\n",
              "        -0.71978613,  1.14664638],\n",
              "       [-0.93556989,  1.8491895 , -0.10878451, ..., -0.01354498,\n",
              "         0.52168361, -0.10277075],\n",
              "       [ 0.89585991,  0.1879177 ,  0.29947528, ..., -0.17823425,\n",
              "         1.12133692, -1.30720885]])"
            ]
          },
          "metadata": {
            "tags": []
          },
          "execution_count": 15
        }
      ]
    },
    {
      "cell_type": "code",
      "metadata": {
        "id": "JJeUBcZPRtWO",
        "colab_type": "code",
        "colab": {
          "base_uri": "https://localhost:8080/",
          "height": 238
        },
        "outputId": "f225a936-db2f-406a-8659-3df9ad5faee8"
      },
      "source": [
        "x_valid"
      ],
      "execution_count": null,
      "outputs": [
        {
          "output_type": "execute_result",
          "data": {
            "text/plain": [
              "array([[-0.72894678,  0.42524224, -0.72520018, ...,  0.76884409,\n",
              "        -0.89312342,  0.86177927],\n",
              "       [-0.53253697,  1.61186495, -0.07501671, ...,  0.22981129,\n",
              "         0.96673881, -1.43714823],\n",
              "       [-1.12428044, -0.36583956, -0.83039438, ..., -0.37482146,\n",
              "        -1.35223299,  1.26159275],\n",
              "       ...,\n",
              "       [-0.38169423, -0.2076232 , -0.46608538, ...,  0.05940227,\n",
              "        -0.64482947,  0.43697745],\n",
              "       [-0.75078755,  0.50435042, -0.67205695, ..., -0.3343433 ,\n",
              "        -1.15078695,  1.10166736],\n",
              "       [-0.07665671,  0.10880952, -0.42690329, ..., -0.15910745,\n",
              "        -0.87438425,  0.8567816 ]])"
            ]
          },
          "metadata": {
            "tags": []
          },
          "execution_count": 16
        }
      ]
    },
    {
      "cell_type": "code",
      "metadata": {
        "id": "eW5ZbqAgRxiR",
        "colab_type": "code",
        "colab": {}
      },
      "source": [
        "np.random.seed(42)\n",
        "tf.random.set_seed(42)"
      ],
      "execution_count": null,
      "outputs": []
    },
    {
      "cell_type": "code",
      "metadata": {
        "id": "9NkeTnXDSi10",
        "colab_type": "code",
        "colab": {}
      },
      "source": [
        "model=keras.models.Sequential([\n",
        "keras.layers.Dense(30,activation=\"relu\",input_shape=x_train.shape[1:]),\n",
        "keras.layers.Dense(30,activation=\"relu\"),\n",
        "keras.layers.Dense(1),                       \n",
        "])\n"
      ],
      "execution_count": null,
      "outputs": []
    },
    {
      "cell_type": "code",
      "metadata": {
        "id": "_HREyTvu70_s",
        "colab_type": "code",
        "colab": {
          "base_uri": "https://localhost:8080/",
          "height": 255
        },
        "outputId": "c97e416c-bb29-4c6f-a31d-5d0dfaa1faf4"
      },
      "source": [
        "model.summary()"
      ],
      "execution_count": null,
      "outputs": [
        {
          "output_type": "stream",
          "text": [
            "Model: \"sequential\"\n",
            "_________________________________________________________________\n",
            "Layer (type)                 Output Shape              Param #   \n",
            "=================================================================\n",
            "dense (Dense)                (None, 30)                270       \n",
            "_________________________________________________________________\n",
            "dense_1 (Dense)              (None, 30)                930       \n",
            "_________________________________________________________________\n",
            "dense_2 (Dense)              (None, 1)                 31        \n",
            "=================================================================\n",
            "Total params: 1,231\n",
            "Trainable params: 1,231\n",
            "Non-trainable params: 0\n",
            "_________________________________________________________________\n"
          ],
          "name": "stdout"
        }
      ]
    },
    {
      "cell_type": "code",
      "metadata": {
        "id": "63V73UK974HV",
        "colab_type": "code",
        "colab": {}
      },
      "source": [
        "model.compile(loss=\"mean_squared_error\",optimizer=keras.optimizers.SGD(lr=1e-3),metrics=[\"mae\"])"
      ],
      "execution_count": null,
      "outputs": []
    },
    {
      "cell_type": "code",
      "metadata": {
        "id": "xtZmBjdP89Pd",
        "colab_type": "code",
        "colab": {
          "base_uri": "https://localhost:8080/",
          "height": 1000
        },
        "outputId": "adc1a43e-28f2-4aeb-e8c2-8ae07242fa7b"
      },
      "source": [
        "model_data=model.fit(x_train,y_train,epochs=30,validation_data=(x_valid,y_valid))"
      ],
      "execution_count": null,
      "outputs": [
        {
          "output_type": "stream",
          "text": [
            "Epoch 1/30\n",
            "363/363 [==============================] - 1s 2ms/step - loss: 1.8866 - mae: 0.9900 - val_loss: 0.7126 - val_mae: 0.6368\n",
            "Epoch 2/30\n",
            "363/363 [==============================] - 1s 2ms/step - loss: 0.6577 - mae: 0.6042 - val_loss: 0.6880 - val_mae: 0.5704\n",
            "Epoch 3/30\n",
            "363/363 [==============================] - 1s 2ms/step - loss: 0.5934 - mae: 0.5618 - val_loss: 0.5803 - val_mae: 0.5352\n",
            "Epoch 4/30\n",
            "363/363 [==============================] - 1s 2ms/step - loss: 0.5557 - mae: 0.5398 - val_loss: 0.5166 - val_mae: 0.5207\n",
            "Epoch 5/30\n",
            "363/363 [==============================] - 1s 2ms/step - loss: 0.5272 - mae: 0.5237 - val_loss: 0.4895 - val_mae: 0.5022\n",
            "Epoch 6/30\n",
            "363/363 [==============================] - 1s 2ms/step - loss: 0.5033 - mae: 0.5113 - val_loss: 0.4951 - val_mae: 0.4934\n",
            "Epoch 7/30\n",
            "363/363 [==============================] - 1s 2ms/step - loss: 0.4854 - mae: 0.5010 - val_loss: 0.4861 - val_mae: 0.4838\n",
            "Epoch 8/30\n",
            "363/363 [==============================] - 1s 1ms/step - loss: 0.4709 - mae: 0.4924 - val_loss: 0.4554 - val_mae: 0.4753\n",
            "Epoch 9/30\n",
            "363/363 [==============================] - 1s 2ms/step - loss: 0.4578 - mae: 0.4857 - val_loss: 0.4413 - val_mae: 0.4671\n",
            "Epoch 10/30\n",
            "363/363 [==============================] - 1s 2ms/step - loss: 0.4474 - mae: 0.4797 - val_loss: 0.4379 - val_mae: 0.4623\n",
            "Epoch 11/30\n",
            "363/363 [==============================] - 1s 2ms/step - loss: 0.4393 - mae: 0.4744 - val_loss: 0.4396 - val_mae: 0.4638\n",
            "Epoch 12/30\n",
            "363/363 [==============================] - 1s 2ms/step - loss: 0.4318 - mae: 0.4703 - val_loss: 0.4507 - val_mae: 0.4573\n",
            "Epoch 13/30\n",
            "363/363 [==============================] - 1s 2ms/step - loss: 0.4261 - mae: 0.4674 - val_loss: 0.3997 - val_mae: 0.4517\n",
            "Epoch 14/30\n",
            "363/363 [==============================] - 1s 2ms/step - loss: 0.4202 - mae: 0.4636 - val_loss: 0.3956 - val_mae: 0.4497\n",
            "Epoch 15/30\n",
            "363/363 [==============================] - 1s 2ms/step - loss: 0.4155 - mae: 0.4613 - val_loss: 0.3916 - val_mae: 0.4464\n",
            "Epoch 16/30\n",
            "363/363 [==============================] - 1s 2ms/step - loss: 0.4112 - mae: 0.4591 - val_loss: 0.3937 - val_mae: 0.4445\n",
            "Epoch 17/30\n",
            "363/363 [==============================] - 1s 2ms/step - loss: 0.4077 - mae: 0.4569 - val_loss: 0.3809 - val_mae: 0.4390\n",
            "Epoch 18/30\n",
            "363/363 [==============================] - 1s 2ms/step - loss: 0.4040 - mae: 0.4545 - val_loss: 0.3793 - val_mae: 0.4368\n",
            "Epoch 19/30\n",
            "363/363 [==============================] - 1s 2ms/step - loss: 0.4004 - mae: 0.4521 - val_loss: 0.3850 - val_mae: 0.4369\n",
            "Epoch 20/30\n",
            "363/363 [==============================] - 1s 2ms/step - loss: 0.3980 - mae: 0.4508 - val_loss: 0.3809 - val_mae: 0.4368\n",
            "Epoch 21/30\n",
            "363/363 [==============================] - 1s 2ms/step - loss: 0.3949 - mae: 0.4488 - val_loss: 0.3701 - val_mae: 0.4350\n",
            "Epoch 22/30\n",
            "363/363 [==============================] - 1s 1ms/step - loss: 0.3924 - mae: 0.4474 - val_loss: 0.3781 - val_mae: 0.4358\n",
            "Epoch 23/30\n",
            "363/363 [==============================] - 1s 1ms/step - loss: 0.3898 - mae: 0.4462 - val_loss: 0.3650 - val_mae: 0.4267\n",
            "Epoch 24/30\n",
            "363/363 [==============================] - 1s 2ms/step - loss: 0.3874 - mae: 0.4438 - val_loss: 0.3655 - val_mae: 0.4271\n",
            "Epoch 25/30\n",
            "363/363 [==============================] - 1s 2ms/step - loss: 0.3851 - mae: 0.4427 - val_loss: 0.3611 - val_mae: 0.4257\n",
            "Epoch 26/30\n",
            "363/363 [==============================] - 1s 2ms/step - loss: 0.3829 - mae: 0.4412 - val_loss: 0.3626 - val_mae: 0.4256\n",
            "Epoch 27/30\n",
            "363/363 [==============================] - 1s 2ms/step - loss: 0.3809 - mae: 0.4398 - val_loss: 0.3564 - val_mae: 0.4242\n",
            "Epoch 28/30\n",
            "363/363 [==============================] - 1s 2ms/step - loss: 0.3788 - mae: 0.4382 - val_loss: 0.3579 - val_mae: 0.4259\n",
            "Epoch 29/30\n",
            "363/363 [==============================] - 1s 2ms/step - loss: 0.3769 - mae: 0.4373 - val_loss: 0.3561 - val_mae: 0.4244\n",
            "Epoch 30/30\n",
            "363/363 [==============================] - 1s 2ms/step - loss: 0.3750 - mae: 0.4359 - val_loss: 0.3548 - val_mae: 0.4214\n"
          ],
          "name": "stdout"
        }
      ]
    },
    {
      "cell_type": "code",
      "metadata": {
        "id": "QwKhitp99D8N",
        "colab_type": "code",
        "colab": {
          "base_uri": "https://localhost:8080/",
          "height": 34
        },
        "outputId": "183c4b1b-6699-472d-ea30-6a4a10cb27c6"
      },
      "source": [
        "mae_test=model.evaluate(x_test,y_test)"
      ],
      "execution_count": null,
      "outputs": [
        {
          "output_type": "stream",
          "text": [
            "162/162 [==============================] - 0s 1ms/step - loss: 0.3727 - mae: 0.4346\n"
          ],
          "name": "stdout"
        }
      ]
    },
    {
      "cell_type": "code",
      "metadata": {
        "id": "vdwgf0bH93fr",
        "colab_type": "code",
        "colab": {
          "base_uri": "https://localhost:8080/",
          "height": 1000
        },
        "outputId": "a29a26f4-4035-48f3-cffe-7b28011f633f"
      },
      "source": [
        "model_data.history"
      ],
      "execution_count": null,
      "outputs": [
        {
          "output_type": "execute_result",
          "data": {
            "text/plain": [
              "{'loss': [1.8866397142410278,\n",
              "  0.6577127575874329,\n",
              "  0.593418538570404,\n",
              "  0.5557191967964172,\n",
              "  0.5271905064582825,\n",
              "  0.5032975673675537,\n",
              "  0.48535558581352234,\n",
              "  0.47091808915138245,\n",
              "  0.45779934525489807,\n",
              "  0.4474469721317291,\n",
              "  0.4393136501312256,\n",
              "  0.43176087737083435,\n",
              "  0.42605164647102356,\n",
              "  0.42017653584480286,\n",
              "  0.41549986600875854,\n",
              "  0.41116511821746826,\n",
              "  0.4077068865299225,\n",
              "  0.40395283699035645,\n",
              "  0.4004494547843933,\n",
              "  0.39796027541160583,\n",
              "  0.394916296005249,\n",
              "  0.392380952835083,\n",
              "  0.38980725407600403,\n",
              "  0.387410044670105,\n",
              "  0.3850752115249634,\n",
              "  0.38291803002357483,\n",
              "  0.3808581829071045,\n",
              "  0.3787591755390167,\n",
              "  0.3769363760948181,\n",
              "  0.37497687339782715],\n",
              " 'mae': [0.9900256991386414,\n",
              "  0.6041509509086609,\n",
              "  0.5618006587028503,\n",
              "  0.5398454070091248,\n",
              "  0.5237292647361755,\n",
              "  0.5112563371658325,\n",
              "  0.5010154247283936,\n",
              "  0.492448091506958,\n",
              "  0.4857262372970581,\n",
              "  0.47973746061325073,\n",
              "  0.4744162857532501,\n",
              "  0.4703480303287506,\n",
              "  0.46740883588790894,\n",
              "  0.46360209584236145,\n",
              "  0.4612663984298706,\n",
              "  0.4591343402862549,\n",
              "  0.45687004923820496,\n",
              "  0.45453646779060364,\n",
              "  0.4521065056324005,\n",
              "  0.45083147287368774,\n",
              "  0.4488178491592407,\n",
              "  0.4474424421787262,\n",
              "  0.44620010256767273,\n",
              "  0.4437682628631592,\n",
              "  0.44272691011428833,\n",
              "  0.441156804561615,\n",
              "  0.43981388211250305,\n",
              "  0.4382499158382416,\n",
              "  0.4372561573982239,\n",
              "  0.4359183609485626],\n",
              " 'val_loss': [0.7126054763793945,\n",
              "  0.6880088448524475,\n",
              "  0.5803287029266357,\n",
              "  0.5166085362434387,\n",
              "  0.4895075857639313,\n",
              "  0.49507924914360046,\n",
              "  0.4861249327659607,\n",
              "  0.4553801715373993,\n",
              "  0.44133710861206055,\n",
              "  0.4378637969493866,\n",
              "  0.43964433670043945,\n",
              "  0.45066899061203003,\n",
              "  0.39972350001335144,\n",
              "  0.39558932185173035,\n",
              "  0.3915724754333496,\n",
              "  0.3936830759048462,\n",
              "  0.38094857335090637,\n",
              "  0.379347562789917,\n",
              "  0.3850175738334656,\n",
              "  0.38094663619995117,\n",
              "  0.37008607387542725,\n",
              "  0.3780854046344757,\n",
              "  0.36497655510902405,\n",
              "  0.3655155897140503,\n",
              "  0.36108672618865967,\n",
              "  0.36261090636253357,\n",
              "  0.35643550753593445,\n",
              "  0.35792914032936096,\n",
              "  0.3560629189014435,\n",
              "  0.35476288199424744],\n",
              " 'val_mae': [0.6368112564086914,\n",
              "  0.5703656673431396,\n",
              "  0.5351505279541016,\n",
              "  0.5206613540649414,\n",
              "  0.5022227168083191,\n",
              "  0.4933752119541168,\n",
              "  0.4838489592075348,\n",
              "  0.4752774238586426,\n",
              "  0.4670593738555908,\n",
              "  0.46234601736068726,\n",
              "  0.4637792110443115,\n",
              "  0.4572650194168091,\n",
              "  0.45166537165641785,\n",
              "  0.4496610462665558,\n",
              "  0.4463699460029602,\n",
              "  0.4444962739944458,\n",
              "  0.43897414207458496,\n",
              "  0.43681108951568604,\n",
              "  0.4369049668312073,\n",
              "  0.4367615878582001,\n",
              "  0.43497899174690247,\n",
              "  0.43578681349754333,\n",
              "  0.4266709089279175,\n",
              "  0.42714089155197144,\n",
              "  0.425742506980896,\n",
              "  0.42560702562332153,\n",
              "  0.4241633117198944,\n",
              "  0.4259428381919861,\n",
              "  0.42436832189559937,\n",
              "  0.421389639377594]}"
            ]
          },
          "metadata": {
            "tags": []
          },
          "execution_count": 23
        }
      ]
    },
    {
      "cell_type": "code",
      "metadata": {
        "id": "ixhPXfvq-A9c",
        "colab_type": "code",
        "colab": {
          "base_uri": "https://localhost:8080/",
          "height": 51
        },
        "outputId": "9ba63d86-e00c-4748-f6e6-3f64591d822e"
      },
      "source": [
        "pip install pydot"
      ],
      "execution_count": null,
      "outputs": [
        {
          "output_type": "stream",
          "text": [
            "Requirement already satisfied: pydot in /usr/local/lib/python3.6/dist-packages (1.3.0)\n",
            "Requirement already satisfied: pyparsing>=2.1.4 in /usr/local/lib/python3.6/dist-packages (from pydot) (2.4.7)\n"
          ],
          "name": "stdout"
        }
      ]
    },
    {
      "cell_type": "code",
      "metadata": {
        "id": "jso02wJL-D-W",
        "colab_type": "code",
        "colab": {
          "base_uri": "https://localhost:8080/",
          "height": 422
        },
        "outputId": "8e201e3a-d8e6-480c-b181-2c7823f58350"
      },
      "source": [
        "import pydot\n",
        "keras.utils.plot_model(model,show_shapes=True)"
      ],
      "execution_count": null,
      "outputs": [
        {
          "output_type": "execute_result",
          "data": {
            "image/png": "[encoded data removed]",
            "text/plain": [
              "<IPython.core.display.Image object>"
            ]
          },
          "metadata": {
            "tags": []
          },
          "execution_count": 25
        }
      ]
    },
    {
      "cell_type": "code",
      "metadata": {
        "id": "q5SO-z98-QLJ",
        "colab_type": "code",
        "colab": {
          "base_uri": "https://localhost:8080/",
          "height": 324
        },
        "outputId": "6d65ea50-f869-4e49-c4b4-2f38ed73309b"
      },
      "source": [
        "import pandas as pd\n",
        "pd.DataFrame(model_data.history).plot(figsize=(8,5))\n",
        "plt.grid(True)\n",
        "plt.gca().set_ylim(0,1)\n",
        "plt.show()"
      ],
      "execution_count": null,
      "outputs": [
        {
          "output_type": "display_data",
          "data": {
            "image/png": "[encoded data removed]",
            "text/plain": [
              "<Figure size 576x360 with 1 Axes>"
            ]
          },
          "metadata": {
            "tags": [],
            "needs_background": "light"
          }
        }
      ]
    },
    {
      "cell_type": "code",
      "metadata": {
        "id": "2wHQaxHY-nKB",
        "colab_type": "code",
        "colab": {}
      },
      "source": [
        "x_new=x_test[:3]"
      ],
      "execution_count": null,
      "outputs": []
    },
    {
      "cell_type": "code",
      "metadata": {
        "id": "Ni7hnwVOEulL",
        "colab_type": "code",
        "colab": {
          "base_uri": "https://localhost:8080/",
          "height": 68
        },
        "outputId": "2026649a-cd37-495e-c3fc-1e1d101d80b5"
      },
      "source": [
        "y_pred=model.predict(x_new)\n",
        "y_pred"
      ],
      "execution_count": null,
      "outputs": [
        {
          "output_type": "execute_result",
          "data": {
            "text/plain": [
              "array([[0.58085257],\n",
              "       [1.9019513 ],\n",
              "       [3.6079113 ]], dtype=float32)"
            ]
          },
          "metadata": {
            "tags": []
          },
          "execution_count": 28
        }
      ]
    },
    {
      "cell_type": "code",
      "metadata": {
        "id": "KaXku3ONFEMh",
        "colab_type": "code",
        "colab": {
          "base_uri": "https://localhost:8080/",
          "height": 34
        },
        "outputId": "52825d44-1879-44fa-b5b0-ae27e98c8952"
      },
      "source": [
        "y_test[:3]"
      ],
      "execution_count": null,
      "outputs": [
        {
          "output_type": "execute_result",
          "data": {
            "text/plain": [
              "array([0.477  , 0.458  , 5.00001])"
            ]
          },
          "metadata": {
            "tags": []
          },
          "execution_count": 29
        }
      ]
    },
    {
      "cell_type": "code",
      "metadata": {
        "id": "nfMl499YGV4P",
        "colab_type": "code",
        "colab": {}
      },
      "source": [
        "del model"
      ],
      "execution_count": null,
      "outputs": []
    },
    {
      "cell_type": "code",
      "metadata": {
        "id": "5ybv6vRzIaKg",
        "colab_type": "code",
        "colab": {}
      },
      "source": [
        "keras.backend.clear_session()"
      ],
      "execution_count": null,
      "outputs": []
    },
    {
      "cell_type": "markdown",
      "metadata": {
        "id": "mnnmtQ_ELNSm",
        "colab_type": "text"
      },
      "source": [
        "**Uding Functional API to create model for linear regression**"
      ]
    },
    {
      "cell_type": "code",
      "metadata": {
        "id": "ma3fomRcIgT8",
        "colab_type": "code",
        "colab": {}
      },
      "source": [
        "input_=keras.layers.Input(shape=x_train.shape[1:])\n",
        "hidden1=keras.layers.Dense(30,activation=\"relu\")(input_)\n",
        "hidden2=keras.layers.Dense(30,activation=\"relu\")(hidden1)\n",
        "concat=keras.layers.concatenate([input_,hidden2])\n",
        "output=keras.layers.Dense(1)(concat)\n",
        "model=keras.models.Model(inputs=[input_],outputs=[output])"
      ],
      "execution_count": null,
      "outputs": []
    },
    {
      "cell_type": "code",
      "metadata": {
        "id": "z0vEv9L8Klo-",
        "colab_type": "code",
        "colab": {
          "base_uri": "https://localhost:8080/",
          "height": 340
        },
        "outputId": "ce648fb9-596b-4ec2-d569-564c24dd6261"
      },
      "source": [
        "model.summary()"
      ],
      "execution_count": null,
      "outputs": [
        {
          "output_type": "stream",
          "text": [
            "Model: \"model\"\n",
            "__________________________________________________________________________________________________\n",
            "Layer (type)                    Output Shape         Param #     Connected to                     \n",
            "==================================================================================================\n",
            "input_1 (InputLayer)            [(None, 8)]          0                                            \n",
            "__________________________________________________________________________________________________\n",
            "dense (Dense)                   (None, 30)           270         input_1[0][0]                    \n",
            "__________________________________________________________________________________________________\n",
            "dense_1 (Dense)                 (None, 30)           930         dense[0][0]                      \n",
            "__________________________________________________________________________________________________\n",
            "concatenate (Concatenate)       (None, 38)           0           input_1[0][0]                    \n",
            "                                                                 dense_1[0][0]                    \n",
            "__________________________________________________________________________________________________\n",
            "dense_2 (Dense)                 (None, 1)            39          concatenate[0][0]                \n",
            "==================================================================================================\n",
            "Total params: 1,239\n",
            "Trainable params: 1,239\n",
            "Non-trainable params: 0\n",
            "__________________________________________________________________________________________________\n"
          ],
          "name": "stdout"
        }
      ]
    },
    {
      "cell_type": "code",
      "metadata": {
        "id": "3eV-k-BCKyvf",
        "colab_type": "code",
        "colab": {}
      },
      "source": [
        "model.compile(loss=\"mean_squared_error\",optimizer=keras.optimizers.SGD(lr=1e-3),metrics=[\"mae\"])"
      ],
      "execution_count": null,
      "outputs": []
    },
    {
      "cell_type": "code",
      "metadata": {
        "id": "e-PhqSbXLhq3",
        "colab_type": "code",
        "colab": {
          "base_uri": "https://localhost:8080/",
          "height": 1000
        },
        "outputId": "fbb788b5-8b7e-4d8c-c02e-25860a7a6f91"
      },
      "source": [
        "model_data=model.fit(x_train,y_train,epochs=30,validation_data=(x_valid,y_valid))"
      ],
      "execution_count": null,
      "outputs": [
        {
          "output_type": "stream",
          "text": [
            "Epoch 1/30\n",
            "363/363 [==============================] - 1s 2ms/step - loss: 1.6920 - mae: 0.8893 - val_loss: 0.8798 - val_mae: 0.6026\n",
            "Epoch 2/30\n",
            "363/363 [==============================] - 1s 2ms/step - loss: 0.6836 - mae: 0.5994 - val_loss: 0.6420 - val_mae: 0.5764\n",
            "Epoch 3/30\n",
            "363/363 [==============================] - 1s 2ms/step - loss: 0.6265 - mae: 0.5775 - val_loss: 0.5891 - val_mae: 0.5503\n",
            "Epoch 4/30\n",
            "363/363 [==============================] - 1s 2ms/step - loss: 0.5877 - mae: 0.5581 - val_loss: 0.5455 - val_mae: 0.5343\n",
            "Epoch 5/30\n",
            "363/363 [==============================] - 1s 2ms/step - loss: 0.5566 - mae: 0.5421 - val_loss: 0.5409 - val_mae: 0.5202\n",
            "Epoch 6/30\n",
            "363/363 [==============================] - 1s 2ms/step - loss: 0.5312 - mae: 0.5298 - val_loss: 0.4903 - val_mae: 0.5046\n",
            "Epoch 7/30\n",
            "363/363 [==============================] - 1s 2ms/step - loss: 0.5108 - mae: 0.5186 - val_loss: 0.4728 - val_mae: 0.4962\n",
            "Epoch 8/30\n",
            "363/363 [==============================] - 1s 2ms/step - loss: 0.4952 - mae: 0.5096 - val_loss: 0.5017 - val_mae: 0.4921\n",
            "Epoch 9/30\n",
            "363/363 [==============================] - 1s 2ms/step - loss: 0.4802 - mae: 0.5025 - val_loss: 0.4511 - val_mae: 0.4811\n",
            "Epoch 10/30\n",
            "363/363 [==============================] - 1s 2ms/step - loss: 0.4685 - mae: 0.4959 - val_loss: 0.4330 - val_mae: 0.4735\n",
            "Epoch 11/30\n",
            "363/363 [==============================] - 1s 2ms/step - loss: 0.4590 - mae: 0.4897 - val_loss: 0.4991 - val_mae: 0.4778\n",
            "Epoch 12/30\n",
            "363/363 [==============================] - 1s 2ms/step - loss: 0.4502 - mae: 0.4851 - val_loss: 0.4179 - val_mae: 0.4658\n",
            "Epoch 13/30\n",
            "363/363 [==============================] - 1s 2ms/step - loss: 0.4433 - mae: 0.4811 - val_loss: 0.4409 - val_mae: 0.4658\n",
            "Epoch 14/30\n",
            "363/363 [==============================] - 1s 2ms/step - loss: 0.4363 - mae: 0.4766 - val_loss: 0.4239 - val_mae: 0.4621\n",
            "Epoch 15/30\n",
            "363/363 [==============================] - 1s 2ms/step - loss: 0.4306 - mae: 0.4736 - val_loss: 0.4480 - val_mae: 0.4601\n",
            "Epoch 16/30\n",
            "363/363 [==============================] - 1s 2ms/step - loss: 0.4253 - mae: 0.4703 - val_loss: 0.4113 - val_mae: 0.4550\n",
            "Epoch 17/30\n",
            "363/363 [==============================] - 1s 1ms/step - loss: 0.4213 - mae: 0.4676 - val_loss: 0.4454 - val_mae: 0.4538\n",
            "Epoch 18/30\n",
            "363/363 [==============================] - 1s 2ms/step - loss: 0.4168 - mae: 0.4650 - val_loss: 0.4538 - val_mae: 0.4518\n",
            "Epoch 19/30\n",
            "363/363 [==============================] - 1s 2ms/step - loss: 0.4126 - mae: 0.4616 - val_loss: 0.4084 - val_mae: 0.4477\n",
            "Epoch 20/30\n",
            "363/363 [==============================] - 1s 2ms/step - loss: 0.4096 - mae: 0.4600 - val_loss: 0.4581 - val_mae: 0.4505\n",
            "Epoch 21/30\n",
            "363/363 [==============================] - 1s 2ms/step - loss: 0.4060 - mae: 0.4573 - val_loss: 0.4267 - val_mae: 0.4487\n",
            "Epoch 22/30\n",
            "363/363 [==============================] - 1s 2ms/step - loss: 0.4029 - mae: 0.4559 - val_loss: 0.4677 - val_mae: 0.4485\n",
            "Epoch 23/30\n",
            "363/363 [==============================] - 1s 1ms/step - loss: 0.4000 - mae: 0.4542 - val_loss: 0.3940 - val_mae: 0.4390\n",
            "Epoch 24/30\n",
            "363/363 [==============================] - 1s 2ms/step - loss: 0.3972 - mae: 0.4515 - val_loss: 0.4277 - val_mae: 0.4410\n",
            "Epoch 25/30\n",
            "363/363 [==============================] - 1s 2ms/step - loss: 0.3946 - mae: 0.4502 - val_loss: 0.4414 - val_mae: 0.4412\n",
            "Epoch 26/30\n",
            "363/363 [==============================] - 1s 2ms/step - loss: 0.3925 - mae: 0.4488 - val_loss: 0.4365 - val_mae: 0.4393\n",
            "Epoch 27/30\n",
            "363/363 [==============================] - 1s 2ms/step - loss: 0.3905 - mae: 0.4472 - val_loss: 0.3854 - val_mae: 0.4354\n",
            "Epoch 28/30\n",
            "363/363 [==============================] - 1s 2ms/step - loss: 0.3885 - mae: 0.4455 - val_loss: 0.4330 - val_mae: 0.4401\n",
            "Epoch 29/30\n",
            "363/363 [==============================] - 1s 2ms/step - loss: 0.3867 - mae: 0.4448 - val_loss: 0.4135 - val_mae: 0.4373\n",
            "Epoch 30/30\n",
            "363/363 [==============================] - 1s 2ms/step - loss: 0.3848 - mae: 0.4435 - val_loss: 0.4344 - val_mae: 0.4358\n"
          ],
          "name": "stdout"
        }
      ]
    },
    {
      "cell_type": "code",
      "metadata": {
        "id": "HtBSrAkBLnfY",
        "colab_type": "code",
        "colab": {
          "base_uri": "https://localhost:8080/",
          "height": 34
        },
        "outputId": "bdbe12c3-7b76-4f45-e9aa-65cf09c45d92"
      },
      "source": [
        "mae_test=model.evaluate(x_test,y_test)"
      ],
      "execution_count": null,
      "outputs": [
        {
          "output_type": "stream",
          "text": [
            "162/162 [==============================] - 0s 1ms/step - loss: 0.3795 - mae: 0.4403\n"
          ],
          "name": "stdout"
        }
      ]
    },
    {
      "cell_type": "code",
      "metadata": {
        "id": "2WlUrFqHMqbH",
        "colab_type": "code",
        "colab": {
          "base_uri": "https://localhost:8080/",
          "height": 1000
        },
        "outputId": "4f5e37ea-e8c1-412e-9f4d-0c3c493ce112"
      },
      "source": [
        "model_data.history"
      ],
      "execution_count": null,
      "outputs": [
        {
          "output_type": "execute_result",
          "data": {
            "text/plain": [
              "{'loss': [1.6920058727264404,\n",
              "  0.6836402416229248,\n",
              "  0.6264881491661072,\n",
              "  0.5877465605735779,\n",
              "  0.5565561056137085,\n",
              "  0.5311980843544006,\n",
              "  0.5107864141464233,\n",
              "  0.4951668083667755,\n",
              "  0.48022276163101196,\n",
              "  0.4684668779373169,\n",
              "  0.45896390080451965,\n",
              "  0.45022058486938477,\n",
              "  0.4432658851146698,\n",
              "  0.4363255202770233,\n",
              "  0.43062451481819153,\n",
              "  0.4253447949886322,\n",
              "  0.42129331827163696,\n",
              "  0.4168177843093872,\n",
              "  0.4126453101634979,\n",
              "  0.4095856547355652,\n",
              "  0.4059634208679199,\n",
              "  0.40294399857521057,\n",
              "  0.40004560351371765,\n",
              "  0.3971884548664093,\n",
              "  0.3946215510368347,\n",
              "  0.39249056577682495,\n",
              "  0.3904934525489807,\n",
              "  0.38845309615135193,\n",
              "  0.38671213388442993,\n",
              "  0.3848456144332886],\n",
              " 'mae': [0.8892966508865356,\n",
              "  0.5993583798408508,\n",
              "  0.577479362487793,\n",
              "  0.558142364025116,\n",
              "  0.542133629322052,\n",
              "  0.5297517776489258,\n",
              "  0.518592119216919,\n",
              "  0.5096290111541748,\n",
              "  0.5025359392166138,\n",
              "  0.4959280490875244,\n",
              "  0.4896959960460663,\n",
              "  0.4850703179836273,\n",
              "  0.48114877939224243,\n",
              "  0.4765703082084656,\n",
              "  0.47358450293540955,\n",
              "  0.4702606499195099,\n",
              "  0.4675999879837036,\n",
              "  0.46496400237083435,\n",
              "  0.46159064769744873,\n",
              "  0.46004417538642883,\n",
              "  0.45733100175857544,\n",
              "  0.4559227228164673,\n",
              "  0.45419758558273315,\n",
              "  0.4514619708061218,\n",
              "  0.4502381384372711,\n",
              "  0.4487718939781189,\n",
              "  0.4472378194332123,\n",
              "  0.4455063045024872,\n",
              "  0.4448150098323822,\n",
              "  0.44350168108940125],\n",
              " 'val_loss': [0.8797985315322876,\n",
              "  0.6420255303382874,\n",
              "  0.589079737663269,\n",
              "  0.5454671382904053,\n",
              "  0.5408936142921448,\n",
              "  0.4903125464916229,\n",
              "  0.4728315770626068,\n",
              "  0.5017259120941162,\n",
              "  0.4510645568370819,\n",
              "  0.4330178499221802,\n",
              "  0.4991108775138855,\n",
              "  0.4179282784461975,\n",
              "  0.4408894181251526,\n",
              "  0.4238837957382202,\n",
              "  0.4480256140232086,\n",
              "  0.4113348722457886,\n",
              "  0.4454156756401062,\n",
              "  0.4537523090839386,\n",
              "  0.4084298312664032,\n",
              "  0.45807084441185,\n",
              "  0.42670395970344543,\n",
              "  0.46774914860725403,\n",
              "  0.3939913213253021,\n",
              "  0.42766523361206055,\n",
              "  0.44141995906829834,\n",
              "  0.4365462064743042,\n",
              "  0.3854181468486786,\n",
              "  0.4329664707183838,\n",
              "  0.413521409034729,\n",
              "  0.43440183997154236],\n",
              " 'val_mae': [0.6026318073272705,\n",
              "  0.5763723850250244,\n",
              "  0.5502772331237793,\n",
              "  0.534281313419342,\n",
              "  0.5201656818389893,\n",
              "  0.5045694708824158,\n",
              "  0.4961996376514435,\n",
              "  0.4920657277107239,\n",
              "  0.4810590147972107,\n",
              "  0.47347649931907654,\n",
              "  0.477807879447937,\n",
              "  0.4658489227294922,\n",
              "  0.4657769501209259,\n",
              "  0.4620634615421295,\n",
              "  0.4600689709186554,\n",
              "  0.4549534320831299,\n",
              "  0.453832745552063,\n",
              "  0.4518481492996216,\n",
              "  0.447709858417511,\n",
              "  0.45054301619529724,\n",
              "  0.44869181513786316,\n",
              "  0.44846779108047485,\n",
              "  0.43899065256118774,\n",
              "  0.44097670912742615,\n",
              "  0.4411579370498657,\n",
              "  0.43933409452438354,\n",
              "  0.4353789985179901,\n",
              "  0.4401053786277771,\n",
              "  0.43728479743003845,\n",
              "  0.43582433462142944]}"
            ]
          },
          "metadata": {
            "tags": []
          },
          "execution_count": 37
        }
      ]
    },
    {
      "cell_type": "code",
      "metadata": {
        "id": "WAiiei24MtaZ",
        "colab_type": "code",
        "colab": {
          "base_uri": "https://localhost:8080/",
          "height": 324
        },
        "outputId": "37bf19c5-a3f5-4ac3-bffa-de24df7d7522"
      },
      "source": [
        "import pandas as pd\n",
        "pd.DataFrame(model_data.history).plot(figsize=(8,5))\n",
        "plt.grid(True)\n",
        "plt.gca().set_ylim(0,1)\n",
        "plt.show()"
      ],
      "execution_count": null,
      "outputs": [
        {
          "output_type": "display_data",
          "data": {
            "image/png": "[encoded data removed]",
            "text/plain": [
              "<Figure size 576x360 with 1 Axes>"
            ]
          },
          "metadata": {
            "tags": [],
            "needs_background": "light"
          }
        }
      ]
    },
    {
      "cell_type": "code",
      "metadata": {
        "id": "qv8OxLBRM7WA",
        "colab_type": "code",
        "colab": {}
      },
      "source": [
        ""
      ],
      "execution_count": null,
      "outputs": []
    },
    {
      "cell_type": "markdown",
      "metadata": {
        "id": "JnHogN3_wOSo",
        "colab_type": "text"
      },
      "source": [
        "**Save and Restore Model**"
      ]
    },
    {
      "cell_type": "code",
      "metadata": {
        "id": "U9CO0yj1wTTn",
        "colab_type": "code",
        "colab": {}
      },
      "source": [
        "model.save(\"my_Func_model.h5\")"
      ],
      "execution_count": null,
      "outputs": []
    },
    {
      "cell_type": "code",
      "metadata": {
        "id": "g_N50mZfxMv7",
        "colab_type": "code",
        "colab": {
          "base_uri": "https://localhost:8080/",
          "height": 35
        },
        "outputId": "4d091b9d-1b46-44b1-98df-46f2fbd719a1"
      },
      "source": [
        "%pwd"
      ],
      "execution_count": null,
      "outputs": [
        {
          "output_type": "execute_result",
          "data": {
            "application/vnd.google.colaboratory.intrinsic": {
              "type": "string"
            },
            "text/plain": [
              "'/content'"
            ]
          },
          "metadata": {
            "tags": []
          },
          "execution_count": 46
        }
      ]
    },
    {
      "cell_type": "code",
      "metadata": {
        "id": "SQLTQdcWxbC1",
        "colab_type": "code",
        "colab": {}
      },
      "source": [
        "del model"
      ],
      "execution_count": null,
      "outputs": []
    },
    {
      "cell_type": "code",
      "metadata": {
        "id": "b7qs-1aNy-uX",
        "colab_type": "code",
        "colab": {}
      },
      "source": [
        "keras.backend.clear_session()"
      ],
      "execution_count": null,
      "outputs": []
    },
    {
      "cell_type": "code",
      "metadata": {
        "id": "3RRupcTkzmgj",
        "colab_type": "code",
        "colab": {}
      },
      "source": [
        "model=keras.models.load_model(\"my_Func_model.h5\")"
      ],
      "execution_count": null,
      "outputs": []
    },
    {
      "cell_type": "code",
      "metadata": {
        "id": "7aySoAoBztbk",
        "colab_type": "code",
        "colab": {
          "base_uri": "https://localhost:8080/",
          "height": 340
        },
        "outputId": "93cc1456-86a1-4503-8730-3d9c97ce8aa6"
      },
      "source": [
        "model.summary()"
      ],
      "execution_count": null,
      "outputs": [
        {
          "output_type": "stream",
          "text": [
            "Model: \"model\"\n",
            "__________________________________________________________________________________________________\n",
            "Layer (type)                    Output Shape         Param #     Connected to                     \n",
            "==================================================================================================\n",
            "input_1 (InputLayer)            [(None, 8)]          0                                            \n",
            "__________________________________________________________________________________________________\n",
            "dense (Dense)                   (None, 30)           270         input_1[0][0]                    \n",
            "__________________________________________________________________________________________________\n",
            "dense_1 (Dense)                 (None, 30)           930         dense[0][0]                      \n",
            "__________________________________________________________________________________________________\n",
            "concatenate (Concatenate)       (None, 38)           0           input_1[0][0]                    \n",
            "                                                                 dense_1[0][0]                    \n",
            "__________________________________________________________________________________________________\n",
            "dense_2 (Dense)                 (None, 1)            39          concatenate[0][0]                \n",
            "==================================================================================================\n",
            "Total params: 1,239\n",
            "Trainable params: 1,239\n",
            "Non-trainable params: 0\n",
            "__________________________________________________________________________________________________\n"
          ],
          "name": "stdout"
        }
      ]
    },
    {
      "cell_type": "code",
      "metadata": {
        "id": "HRiIW7_uzvhU",
        "colab_type": "code",
        "colab": {
          "base_uri": "https://localhost:8080/",
          "height": 68
        },
        "outputId": "41ff16a2-e399-499b-cf36-5587b3bb726d"
      },
      "source": [
        "y_pred=model.predict(x_new)\n",
        "y_pred"
      ],
      "execution_count": null,
      "outputs": [
        {
          "output_type": "execute_result",
          "data": {
            "text/plain": [
              "array([[0.7609553],\n",
              "       [1.7409785],\n",
              "       [3.5886006]], dtype=float32)"
            ]
          },
          "metadata": {
            "tags": []
          },
          "execution_count": 58
        }
      ]
    },
    {
      "cell_type": "markdown",
      "metadata": {
        "id": "ugersft21a5R",
        "colab_type": "text"
      },
      "source": [
        "**Callback during training**"
      ]
    },
    {
      "cell_type": "code",
      "metadata": {
        "id": "E5jNRUht1iKF",
        "colab_type": "code",
        "colab": {}
      },
      "source": [
        "keras.backend.clear_session()\n",
        "np.random.seed(42)\n",
        "tf.random.set_seed(42)"
      ],
      "execution_count": null,
      "outputs": []
    },
    {
      "cell_type": "code",
      "metadata": {
        "id": "xfBnpd6F12T5",
        "colab_type": "code",
        "colab": {}
      },
      "source": [
        "model=keras.models.Sequential([\n",
        "keras.layers.Dense(30,activation=\"relu\",input_shape=x_train.shape[1:]),\n",
        "keras.layers.Dense(30,activation=\"relu\"),\n",
        "keras.layers.Dense(1),                       \n",
        "])"
      ],
      "execution_count": null,
      "outputs": []
    },
    {
      "cell_type": "code",
      "metadata": {
        "id": "Tyq-81Zu2DmV",
        "colab_type": "code",
        "colab": {}
      },
      "source": [
        "model.compile(loss=\"mse\",optimizer=keras.optimizers.SGD(lr=1e-3))"
      ],
      "execution_count": null,
      "outputs": []
    },
    {
      "cell_type": "code",
      "metadata": {
        "id": "QZVr4BoS2Ow5",
        "colab_type": "code",
        "colab": {}
      },
      "source": [
        "checkpoint_cb=keras.callbacks.ModelCheckpoint(\"Model-{epoch:02d}.h5\")"
      ],
      "execution_count": null,
      "outputs": []
    },
    {
      "cell_type": "code",
      "metadata": {
        "id": "2D7XENJ825Oe",
        "colab_type": "code",
        "colab": {
          "base_uri": "https://localhost:8080/",
          "height": 357
        },
        "outputId": "dc272b18-091f-437c-e3c1-1828ef058def"
      },
      "source": [
        "model_data=model.fit(x_train,y_train,epochs=10,validation_data=(x_valid,y_valid),callbacks=[checkpoint_cb])"
      ],
      "execution_count": null,
      "outputs": [
        {
          "output_type": "stream",
          "text": [
            "Epoch 1/10\n",
            "363/363 [==============================] - 1s 2ms/step - loss: 1.8866 - val_loss: 0.7126\n",
            "Epoch 2/10\n",
            "363/363 [==============================] - 1s 1ms/step - loss: 0.6577 - val_loss: 0.6880\n",
            "Epoch 3/10\n",
            "363/363 [==============================] - 1s 2ms/step - loss: 0.5934 - val_loss: 0.5803\n",
            "Epoch 4/10\n",
            "363/363 [==============================] - 1s 2ms/step - loss: 0.5557 - val_loss: 0.5166\n",
            "Epoch 5/10\n",
            "363/363 [==============================] - 1s 2ms/step - loss: 0.5272 - val_loss: 0.4895\n",
            "Epoch 6/10\n",
            "363/363 [==============================] - 1s 1ms/step - loss: 0.5033 - val_loss: 0.4951\n",
            "Epoch 7/10\n",
            "363/363 [==============================] - 1s 1ms/step - loss: 0.4854 - val_loss: 0.4861\n",
            "Epoch 8/10\n",
            "363/363 [==============================] - 1s 1ms/step - loss: 0.4709 - val_loss: 0.4554\n",
            "Epoch 9/10\n",
            "363/363 [==============================] - 1s 1ms/step - loss: 0.4578 - val_loss: 0.4413\n",
            "Epoch 10/10\n",
            "363/363 [==============================] - 1s 1ms/step - loss: 0.4474 - val_loss: 0.4379\n"
          ],
          "name": "stdout"
        }
      ]
    },
    {
      "cell_type": "code",
      "metadata": {
        "id": "7oSLYsM33Pv2",
        "colab_type": "code",
        "colab": {}
      },
      "source": [
        "del model"
      ],
      "execution_count": null,
      "outputs": []
    },
    {
      "cell_type": "code",
      "metadata": {
        "id": "RukRg14k3dm3",
        "colab_type": "code",
        "colab": {}
      },
      "source": [
        "keras.backend.clear_session()"
      ],
      "execution_count": null,
      "outputs": []
    },
    {
      "cell_type": "code",
      "metadata": {
        "id": "Fxh4Hjdu4-aW",
        "colab_type": "code",
        "colab": {}
      },
      "source": [
        "model=keras.models.Sequential([\n",
        "keras.layers.Dense(30,activation=\"relu\",input_shape=x_train.shape[1:]),\n",
        "keras.layers.Dense(30,activation=\"relu\"),\n",
        "keras.layers.Dense(1),                       \n",
        "])"
      ],
      "execution_count": null,
      "outputs": []
    },
    {
      "cell_type": "code",
      "metadata": {
        "id": "7uQ_mEpV5Cha",
        "colab_type": "code",
        "colab": {}
      },
      "source": [
        "model.compile(loss=\"mse\",optimizer=keras.optimizers.SGD(lr=1e-3))"
      ],
      "execution_count": null,
      "outputs": []
    },
    {
      "cell_type": "code",
      "metadata": {
        "id": "O3s3zbAo5FS-",
        "colab_type": "code",
        "colab": {}
      },
      "source": [
        "checkpoint_cb=keras.callbacks.ModelCheckpoint(\"Best_Model.h5\",save_best_only=True)"
      ],
      "execution_count": null,
      "outputs": []
    },
    {
      "cell_type": "code",
      "metadata": {
        "id": "3y7PjpYP5S4g",
        "colab_type": "code",
        "colab": {
          "base_uri": "https://localhost:8080/",
          "height": 357
        },
        "outputId": "c76bebc6-d080-4788-c4a8-7c23d374ddc0"
      },
      "source": [
        "model_data=model.fit(x_train,y_train,epochs=10,validation_data=(x_valid,y_valid),callbacks=[checkpoint_cb])"
      ],
      "execution_count": null,
      "outputs": [
        {
          "output_type": "stream",
          "text": [
            "Epoch 1/10\n",
            "363/363 [==============================] - 1s 2ms/step - loss: 1.8542 - val_loss: 1.3779\n",
            "Epoch 2/10\n",
            "363/363 [==============================] - 1s 1ms/step - loss: 0.7854 - val_loss: 0.6885\n",
            "Epoch 3/10\n",
            "363/363 [==============================] - 1s 1ms/step - loss: 0.6817 - val_loss: 0.6645\n",
            "Epoch 4/10\n",
            "363/363 [==============================] - 1s 2ms/step - loss: 0.6283 - val_loss: 0.5944\n",
            "Epoch 5/10\n",
            "363/363 [==============================] - 1s 2ms/step - loss: 0.5868 - val_loss: 0.5505\n",
            "Epoch 6/10\n",
            "363/363 [==============================] - 1s 2ms/step - loss: 0.5510 - val_loss: 0.5211\n",
            "Epoch 7/10\n",
            "363/363 [==============================] - 1s 2ms/step - loss: 0.5225 - val_loss: 0.5055\n",
            "Epoch 8/10\n",
            "363/363 [==============================] - 1s 2ms/step - loss: 0.4993 - val_loss: 0.4648\n",
            "Epoch 9/10\n",
            "363/363 [==============================] - 1s 2ms/step - loss: 0.4803 - val_loss: 0.4442\n",
            "Epoch 10/10\n",
            "363/363 [==============================] - 1s 2ms/step - loss: 0.4649 - val_loss: 0.4304\n"
          ],
          "name": "stdout"
        }
      ]
    },
    {
      "cell_type": "code",
      "metadata": {
        "id": "TGDPVKqR5eU2",
        "colab_type": "code",
        "colab": {}
      },
      "source": [
        "model=keras.models.load_model(\"Best_Model.h5\")"
      ],
      "execution_count": null,
      "outputs": []
    },
    {
      "cell_type": "code",
      "metadata": {
        "id": "vxo71Oq55mqQ",
        "colab_type": "code",
        "colab": {
          "base_uri": "https://localhost:8080/",
          "height": 34
        },
        "outputId": "74037990-ee33-4a21-eeae-8261b91efc49"
      },
      "source": [
        "mse_test=model.evaluate(x_test,y_test)"
      ],
      "execution_count": null,
      "outputs": [
        {
          "output_type": "stream",
          "text": [
            "162/162 [==============================] - 0s 944us/step - loss: 0.4472\n"
          ],
          "name": "stdout"
        }
      ]
    },
    {
      "cell_type": "code",
      "metadata": {
        "id": "Sr4wliIv6tH-",
        "colab_type": "code",
        "colab": {
          "base_uri": "https://localhost:8080/",
          "height": 34
        },
        "outputId": "fe002b78-f9ee-44e0-a71a-ee826da3f1fa"
      },
      "source": [
        "mse_test"
      ],
      "execution_count": null,
      "outputs": [
        {
          "output_type": "execute_result",
          "data": {
            "text/plain": [
              "0.4472494423389435"
            ]
          },
          "metadata": {
            "tags": []
          },
          "execution_count": 76
        }
      ]
    },
    {
      "cell_type": "markdown",
      "metadata": {
        "id": "qsPyMcde6bRq",
        "colab_type": "text"
      },
      "source": [
        "**Early Stop Model(for very high epoch value)**"
      ]
    },
    {
      "cell_type": "code",
      "metadata": {
        "id": "RclLWxn-6iu6",
        "colab_type": "code",
        "colab": {}
      },
      "source": [
        "del model\n",
        "keras.backend.clear_session()"
      ],
      "execution_count": null,
      "outputs": []
    },
    {
      "cell_type": "code",
      "metadata": {
        "id": "hbp6Jx6M63WV",
        "colab_type": "code",
        "colab": {}
      },
      "source": [
        "model=keras.models.Sequential([\n",
        "keras.layers.Dense(30,activation=\"relu\",input_shape=x_train.shape[1:]),\n",
        "keras.layers.Dense(30,activation=\"relu\"),\n",
        "keras.layers.Dense(1),                       \n",
        "])"
      ],
      "execution_count": null,
      "outputs": []
    },
    {
      "cell_type": "code",
      "metadata": {
        "id": "4rhrVETD673e",
        "colab_type": "code",
        "colab": {}
      },
      "source": [
        "model.compile(loss=\"mse\",optimizer=keras.optimizers.SGD(lr=1e-3))"
      ],
      "execution_count": null,
      "outputs": []
    },
    {
      "cell_type": "code",
      "metadata": {
        "id": "bUiNoe5z6-r8",
        "colab_type": "code",
        "colab": {}
      },
      "source": [
        "checkpoint_cb=keras.callbacks.ModelCheckpoint(\"Early_Stop_Model.h5\",save_best_only=True)"
      ],
      "execution_count": null,
      "outputs": []
    },
    {
      "cell_type": "code",
      "metadata": {
        "id": "AdY6-lFm7nk6",
        "colab_type": "code",
        "colab": {}
      },
      "source": [
        "early_stopping_cb=keras.callbacks.EarlyStopping(patience=10,restore_best_weights=True)"
      ],
      "execution_count": null,
      "outputs": []
    },
    {
      "cell_type": "code",
      "metadata": {
        "id": "Ych1NhY48AB0",
        "colab_type": "code",
        "colab": {
          "base_uri": "https://localhost:8080/",
          "height": 1000
        },
        "outputId": "826ad473-092a-4db7-eda4-252dd0e224af"
      },
      "source": [
        "model_data=model.fit(x_train,y_train,epochs=200,validation_data=(x_valid,y_valid),callbacks=[checkpoint_cb,early_stopping_cb])"
      ],
      "execution_count": null,
      "outputs": [
        {
          "output_type": "stream",
          "text": [
            "Epoch 1/200\n",
            "363/363 [==============================] - 1s 2ms/step - loss: 2.0148 - val_loss: 1.4007\n",
            "Epoch 2/200\n",
            "363/363 [==============================] - 1s 2ms/step - loss: 0.7735 - val_loss: 1.3632\n",
            "Epoch 3/200\n",
            "363/363 [==============================] - 1s 2ms/step - loss: 0.6815 - val_loss: 0.8402\n",
            "Epoch 4/200\n",
            "363/363 [==============================] - 1s 1ms/step - loss: 0.6134 - val_loss: 0.5897\n",
            "Epoch 5/200\n",
            "363/363 [==============================] - 1s 2ms/step - loss: 0.5652 - val_loss: 0.5373\n",
            "Epoch 6/200\n",
            "363/363 [==============================] - 1s 2ms/step - loss: 0.5242 - val_loss: 0.5175\n",
            "Epoch 7/200\n",
            "363/363 [==============================] - 1s 1ms/step - loss: 0.4955 - val_loss: 0.4717\n",
            "Epoch 8/200\n",
            "363/363 [==============================] - 1s 2ms/step - loss: 0.4729 - val_loss: 0.4582\n",
            "Epoch 9/200\n",
            "363/363 [==============================] - 1s 1ms/step - loss: 0.4546 - val_loss: 0.4201\n",
            "Epoch 10/200\n",
            "363/363 [==============================] - 1s 1ms/step - loss: 0.4411 - val_loss: 0.4036\n",
            "Epoch 11/200\n",
            "363/363 [==============================] - 1s 1ms/step - loss: 0.4311 - val_loss: 0.4122\n",
            "Epoch 12/200\n",
            "363/363 [==============================] - 1s 1ms/step - loss: 0.4225 - val_loss: 0.3872\n",
            "Epoch 13/200\n",
            "363/363 [==============================] - 1s 1ms/step - loss: 0.4156 - val_loss: 0.3814\n",
            "Epoch 14/200\n",
            "363/363 [==============================] - 1s 2ms/step - loss: 0.4095 - val_loss: 0.3763\n",
            "Epoch 15/200\n",
            "363/363 [==============================] - 1s 1ms/step - loss: 0.4044 - val_loss: 0.3785\n",
            "Epoch 16/200\n",
            "363/363 [==============================] - 1s 1ms/step - loss: 0.4005 - val_loss: 0.3682\n",
            "Epoch 17/200\n",
            "363/363 [==============================] - 1s 1ms/step - loss: 0.3969 - val_loss: 0.3984\n",
            "Epoch 18/200\n",
            "363/363 [==============================] - 1s 2ms/step - loss: 0.3943 - val_loss: 0.3625\n",
            "Epoch 19/200\n",
            "363/363 [==============================] - 1s 2ms/step - loss: 0.3907 - val_loss: 0.3610\n",
            "Epoch 20/200\n",
            "363/363 [==============================] - 1s 1ms/step - loss: 0.3882 - val_loss: 0.4561\n",
            "Epoch 21/200\n",
            "363/363 [==============================] - 1s 2ms/step - loss: 0.3872 - val_loss: 0.3632\n",
            "Epoch 22/200\n",
            "363/363 [==============================] - 1s 1ms/step - loss: 0.3841 - val_loss: 0.4075\n",
            "Epoch 23/200\n",
            "363/363 [==============================] - 1s 2ms/step - loss: 0.3823 - val_loss: 0.4608\n",
            "Epoch 24/200\n",
            "363/363 [==============================] - 1s 1ms/step - loss: 0.3804 - val_loss: 0.3983\n",
            "Epoch 25/200\n",
            "363/363 [==============================] - 1s 1ms/step - loss: 0.3789 - val_loss: 0.3820\n",
            "Epoch 26/200\n",
            "363/363 [==============================] - 1s 1ms/step - loss: 0.3772 - val_loss: 0.3785\n",
            "Epoch 27/200\n",
            "363/363 [==============================] - 1s 1ms/step - loss: 0.3760 - val_loss: 0.4521\n",
            "Epoch 28/200\n",
            "363/363 [==============================] - 1s 1ms/step - loss: 0.3746 - val_loss: 0.3948\n",
            "Epoch 29/200\n",
            "363/363 [==============================] - 1s 1ms/step - loss: 0.3735 - val_loss: 0.3700\n"
          ],
          "name": "stdout"
        }
      ]
    },
    {
      "cell_type": "code",
      "metadata": {
        "id": "0WwbDLo-80VU",
        "colab_type": "code",
        "colab": {
          "base_uri": "https://localhost:8080/",
          "height": 34
        },
        "outputId": "92a961ef-7eb4-4dc1-e038-d432538f9b08"
      },
      "source": [
        "model=keras.models.load_model(\"Early_Stop_Model.h5\")\n",
        "mse_test=model.evaluate(x_test,y_test)"
      ],
      "execution_count": null,
      "outputs": [
        {
          "output_type": "stream",
          "text": [
            "162/162 [==============================] - 0s 991us/step - loss: 0.3888\n"
          ],
          "name": "stdout"
        }
      ]
    },
    {
      "cell_type": "code",
      "metadata": {
        "id": "lmWSVVWt9gUC",
        "colab_type": "code",
        "colab": {
          "base_uri": "https://localhost:8080/",
          "height": 68
        },
        "outputId": "be4df0ba-b6a4-44a2-cc9a-06db08401f91"
      },
      "source": [
        "y_pred=model.predict(x_new)\n",
        "y_pred"
      ],
      "execution_count": null,
      "outputs": [
        {
          "output_type": "execute_result",
          "data": {
            "text/plain": [
              "array([[0.71715844],\n",
              "       [1.8356612 ],\n",
              "       [3.6896198 ]], dtype=float32)"
            ]
          },
          "metadata": {
            "tags": []
          },
          "execution_count": 85
        }
      ]
    }
  ]
}